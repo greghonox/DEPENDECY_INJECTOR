{
 "cells": [
  {
   "cell_type": "code",
   "execution_count": 2,
   "metadata": {},
   "outputs": [
    {
     "name": "stdout",
     "output_type": "stream",
     "text": [
      "python3 -m venv venv\n",
      "venv/bin/pip install --upgrade pip\n",
      "Requirement already satisfied: pip in ./venv/lib/python3.8/site-packages (22.2.2)\n",
      "source ./venv/bin/activate\n",
      "make: source: No such file or directory\n",
      "make: *** [activate-venv] Error 1\n",
      "venv/bin/pip install -r requirements.txt\n",
      "Requirement already satisfied: dependency-injector in ./venv/lib/python3.8/site-packages (from -r requirements.txt (line 1)) (4.40.0)\n",
      "Requirement already satisfied: six<=1.16.0,>=1.7.0 in ./venv/lib/python3.8/site-packages (from dependency-injector->-r requirements.txt (line 1)) (1.16.0)\n"
     ]
    }
   ],
   "source": [
    "# For create venv and install requirements\n",
    "! make create-venv\n",
    "! make pip-update\n",
    "! make activate-venv\n",
    "! make install-requirements"
   ]
  },
  {
   "cell_type": "code",
   "execution_count": 1,
   "metadata": {},
   "outputs": [],
   "source": [
    "from dependency_injector import containers, providers\n",
    "from dependency_injector.wiring import Provide, inject\n",
    "from unittest import mock"
   ]
  },
  {
   "cell_type": "code",
   "execution_count": 62,
   "metadata": {},
   "outputs": [],
   "source": [
    "class ApiClient:\n",
    "\n",
    "    def __init__(self, api_key: str, timeout: int) -> None:\n",
    "        print('INIT APICLIENT')\n",
    "        self.api_key = api_key  # <-- dependency is injected\n",
    "        self.timeout = timeout  # <-- dependency is injected"
   ]
  },
  {
   "cell_type": "code",
   "execution_count": 63,
   "metadata": {},
   "outputs": [],
   "source": [
    "class Service:\n",
    "\n",
    "    def __init__(self, api_client: ApiClient) -> None:\n",
    "        print('INIT SERVICE')\n",
    "        self.api_client = api_client  # <-- dependency is injected"
   ]
  },
  {
   "cell_type": "code",
   "execution_count": 64,
   "metadata": {},
   "outputs": [],
   "source": [
    "class Container(containers.DeclarativeContainer):\n",
    "\n",
    "    config = providers.Configuration()\n",
    "\n",
    "    api_client = providers.Singleton(\n",
    "        ApiClient,\n",
    "        api_key=config.api_key,\n",
    "        timeout=config.timeout,\n",
    "    )\n",
    "\n",
    "    service = providers.Factory(\n",
    "        Service,\n",
    "        api_client=api_client,\n",
    "    )\n",
    "\n",
    "\n",
    "@inject\n",
    "def main(service: Service = Provide[Container.service]) -> None:\n",
    "    print('INIT MAIN')"
   ]
  },
  {
   "cell_type": "code",
   "execution_count": 70,
   "metadata": {},
   "outputs": [
    {
     "name": "stdout",
     "output_type": "stream",
     "text": [
      "INIT APICLIENT\n",
      "INIT SERVICE\n",
      "INIT MAIN\n",
      "INIT SERVICE\n",
      "INIT MAIN\n"
     ]
    }
   ],
   "source": [
    "container = Container()\n",
    "container.wire(modules=[__name__])\n",
    "\n",
    "main()  # <-- dependency is injected automatically\n",
    "\n",
    "with container.api_client.override(mock.Mock()):\n",
    "    main()\n"
   ]
  },
  {
   "cell_type": "code",
   "execution_count": 34,
   "metadata": {},
   "outputs": [],
   "source": [
    "class Uber:\n",
    "    def __init__(self, car_type, amount_door) -> None:\n",
    "        self.car_type: str = car_type\n",
    "        self.amount_door: int = amount_door\n",
    "        \n",
    "    def __str__(self) -> str:\n",
    "        return f'car type: {self.car_type} {self.amount_door} amount door. '\n",
    "\n",
    "class Passenger:\n",
    "    def __init__(self, origin, destiny) -> None:\n",
    "        self.origin: str = origin\n",
    "        self.destiny: str = destiny\n",
    "\n",
    "    def __str__(self) -> str:\n",
    "        return f'{self.origin} -> {self.destiny}'        \n",
    "\n",
    "class Container(containers.DeclarativeContainer):\n",
    "    uber = providers.Factory(Uber)\n",
    "    passenger = providers.Factory(Passenger)\n",
    "    \n",
    "@inject\n",
    "def main(uber: Uber, \n",
    "         passenger: Passenger) -> None:\n",
    "    print(f'Last go {passenger} the {uber}')\n",
    "\n",
    "uber = Uber('sedan-luxo', 5)\n",
    "passenger = Passenger('Campinas', 'Monte Mor')\n",
    "\n",
    "container = Container()\n",
    "container.wire(modules=[__name__])\n",
    "\n",
    "main(uber, passenger)"
   ]
  }
 ],
 "metadata": {
  "kernelspec": {
   "display_name": "Python 3.8.12 ('venv': venv)",
   "language": "python",
   "name": "python3"
  },
  "language_info": {
   "codemirror_mode": {
    "name": "ipython",
    "version": 3
   },
   "file_extension": ".py",
   "mimetype": "text/x-python",
   "name": "python",
   "nbconvert_exporter": "python",
   "pygments_lexer": "ipython3",
   "version": "3.8.12"
  },
  "orig_nbformat": 4,
  "vscode": {
   "interpreter": {
    "hash": "06ee1a863e465fb661b03f7ca76a7532417086f67ab8d412993399bfd35c16fd"
   }
  }
 },
 "nbformat": 4,
 "nbformat_minor": 2
}
